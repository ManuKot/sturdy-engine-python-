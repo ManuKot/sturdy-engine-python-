{
  "nbformat": 4,
  "nbformat_minor": 0,
  "metadata": {
    "colab": {
      "provenance": []
    },
    "kernelspec": {
      "name": "python3",
      "display_name": "Python 3"
    },
    "language_info": {
      "name": "python"
    }
  },
  "cells": [
    {
      "cell_type": "markdown",
      "metadata": {
        "id": "EDCxasjKlUKM"
      },
      "source": [
        "##Assignment - 4\n",
        "\n",
        "**Answer the following questions, download the .ipynb file and submit the file.**\n",
        "* Name : Manoj Kumar Reddy Mule\n",
        "* Sesion : 07\n",
        "* CRN :73064"
      ]
    },
    {
      "cell_type": "markdown",
      "metadata": {
        "id": "Rwo422ngrMme"
      },
      "source": [
        "Question#1 : 20 Points\n",
        "\n",
        "Build the class and it as \"Purchase\" with the following requirements:\n",
        "\n",
        "    Attributes :\n",
        "    item_name (string)\n",
        "    item_price (int)\n",
        "    item_quantity (int)\n",
        "    \n",
        "    Default constructor: With the following default values\n",
        "    Item_name = \"none\",\n",
        "    item_price = 0,\n",
        "    item_quantity = 0\n",
        "\n",
        "    Method:\n",
        "    item_cost()\n",
        "\n",
        "    This method should calculate the item cost example :\n",
        "    Coca Cola 10 @ $1 = $10\n",
        "\n",
        "If there are more than one item then you should add up the cost.\n",
        "    Item 1\n",
        "    Enter the item name: Chocolate\n",
        "    Enter the item price:3\n",
        "    Enter the item quantity:1\n",
        "\n",
        "    Item 2\n",
        "    Enter the item name: Cola\n",
        "    Enter the item price: 1\n",
        "    Enter the item quantity: 10\n",
        "\n",
        "(3) Add the costs of the two items together and output the total cost.\n",
        "\n",
        "    Ex:\n",
        "    TOTAL COST\n",
        "    Chocolate 1 @ $3 = $3\n",
        "    Cola 10 @ $1 = $10\n",
        "    Total: $13"
      ]
    },
    {
      "cell_type": "code",
      "metadata": {
        "id": "kaW0d1uSpskH",
        "colab": {
          "base_uri": "https://localhost:8080/"
        },
        "outputId": "6c4f65d0-dd43-4c36-f7b0-be4022201b62"
      },
      "source": [
        "class Purchase:\n",
        "    def __init__(self, item_name=\"none\", item_price=0, item_quantity=0):\n",
        "        self.item_name = item_name\n",
        "        self.item_price = item_price\n",
        "        self.item_quantity = item_quantity\n",
        "\n",
        "    def item_cost(self):\n",
        "        return self.item_price * self.item_quantity\n",
        "\n",
        "# Input handling and total cost calculation\n",
        "items = []\n",
        "total_cost = 0\n",
        "\n",
        "for i in range(2):\n",
        "    name = input(f\"Enter the item name for item {i + 1}: \")\n",
        "    price = int(input(f\"Enter the item price for item {i + 1}: \"))\n",
        "    quantity = int(input(f\"Enter the item quantity for item {i + 1}: \"))\n",
        "    item = Purchase(name, price, quantity)\n",
        "    items.append(item)\n",
        "    total_cost += item.item_cost()\n",
        "\n",
        "# Displaying the total cost\n",
        "print(\"\\nTOTAL COST\")\n",
        "for item in items:\n",
        "    print(f\"{item.item_name} {item.item_quantity} @ ${item.item_price} = ${item.item_cost()}\")\n",
        "print(f\"Total: ${total_cost}\")\n"
      ],
      "execution_count": 1,
      "outputs": [
        {
          "output_type": "stream",
          "name": "stdout",
          "text": [
            "Enter the item name for item 1: cola\n",
            "Enter the item price for item 1: 3\n",
            "Enter the item quantity for item 1: 6\n",
            "Enter the item name for item 2: coca cola\n",
            "Enter the item price for item 2: 4\n",
            "Enter the item quantity for item 2: 2\n",
            "\n",
            "TOTAL COST\n",
            "cola 6 @ $3 = $18\n",
            "coca cola 2 @ $4 = $8\n",
            "Total: $26\n"
          ]
        }
      ]
    },
    {
      "cell_type": "code",
      "metadata": {
        "id": "aPnte2jypsg4"
      },
      "source": [],
      "execution_count": null,
      "outputs": []
    },
    {
      "cell_type": "markdown",
      "metadata": {
        "id": "xxz8augHib6N"
      },
      "source": [
        "Question #2\n",
        "Point : 10\n",
        "\n",
        "Write a class called Calculator that performs basic functions of a calculator: add, subtract, multiply, divide, and clear.\n",
        "\n"
      ]
    },
    {
      "cell_type": "code",
      "metadata": {
        "id": "5Ce-X87Jpr_H"
      },
      "source": [
        "class Calculator:\n",
        "    def __init__(self):\n",
        "        self.result = 0\n",
        "\n",
        "    def add(self, value):\n",
        "        self.result += value\n",
        "\n",
        "    def subtract(self, value):\n",
        "        self.result -= value\n",
        "\n",
        "    def multiply(self, value):\n",
        "        self.result *= value\n",
        "\n",
        "    def divide(self, value):\n",
        "        if value != 0:\n",
        "            self.result /= value\n",
        "        else:\n",
        "            raise ValueError(\"Cannot divide by zero.\")\n",
        "\n",
        "    def clear(self):\n",
        "        self.result = 0\n",
        "\n",
        "    def get_result(self):\n",
        "        return self.result\n"
      ],
      "execution_count": 14,
      "outputs": []
    },
    {
      "cell_type": "code",
      "metadata": {
        "id": "HZIKIuJppr7u",
        "colab": {
          "base_uri": "https://localhost:8080/"
        },
        "outputId": "a391c2b5-e132-4432-cbf8-42511614cccd"
      },
      "source": [
        "# Create an instance of the Calculator class\n",
        "calc = Calculator()\n",
        "\n",
        "# Perform operations\n",
        "calc.add(8)\n",
        "calc.subtract(3)\n",
        "calc.multiply(2)\n",
        "calc.divide(2)\n",
        "\n",
        "# Get the result\n",
        "result = calc.get_result()\n",
        "print(result)\n"
      ],
      "execution_count": 16,
      "outputs": [
        {
          "output_type": "stream",
          "name": "stdout",
          "text": [
            "5.0\n"
          ]
        }
      ]
    },
    {
      "cell_type": "code",
      "metadata": {
        "id": "R4Wknqybprrn"
      },
      "source": [],
      "execution_count": null,
      "outputs": []
    },
    {
      "cell_type": "markdown",
      "metadata": {
        "id": "1A0bmhmGitTC"
      },
      "source": [
        "Question#3\n",
        "\n",
        "Points : 10\n",
        "\n",
        "Define the Student class that has two attributes: name and gpa\n",
        "\n",
        "Implement the following instance methods:\n",
        "\n",
        "A constructor that sets name to \"Defualt name\"(What ever you want to give) and gpa to 1.0\n",
        "set_name(self, name) - set student's name to parameter name\n",
        "get_name(self) - return student's name\n",
        "set_gpa(self, gpa) - set student's gpa to parameter gpa\n",
        "get_gpa(self) - return student's gpa\n",
        "Ex. If a new Student object is created, the default output is:\n",
        "\n",
        "Default name/1.0\n",
        "Ex. If the student's name is set to \"Frank\" and the gpa is set to 3.7, the output becomes:\n",
        "\n",
        "Frank/3.7"
      ]
    },
    {
      "cell_type": "code",
      "source": [
        "class Student:\n",
        "    def __init__(self, name=\"Default name\", gpa=1.0):\n",
        "        self.name = name\n",
        "        self.gpa = gpa\n",
        "\n",
        "    def set_name(self, name):\n",
        "        self.name = name\n",
        "\n",
        "    def get_name(self):\n",
        "        return self.name\n",
        "\n",
        "    def set_gpa(self, gpa):\n",
        "        self.gpa = gpa\n",
        "\n",
        "    def get_gpa(self):\n",
        "        return self.gpa\n",
        "\n",
        "# Example usage\n",
        "student = Student()\n",
        "print(f\"{student.get_name()}/{student.get_gpa()}\")\n",
        "\n",
        "student.set_name(\"Frank\")\n",
        "student.set_gpa(3.7)\n",
        "print(f\"{student.get_name()}/{student.get_gpa()}\")\n"
      ],
      "metadata": {
        "colab": {
          "base_uri": "https://localhost:8080/"
        },
        "id": "_Ro09V6QFI_t",
        "outputId": "8d83ebb2-6989-4d7d-b849-c3aec723dc9d"
      },
      "execution_count": 17,
      "outputs": [
        {
          "output_type": "stream",
          "name": "stdout",
          "text": [
            "Default name/1.0\n",
            "Frank/3.7\n"
          ]
        }
      ]
    },
    {
      "cell_type": "markdown",
      "metadata": {
        "id": "NetjI26fjKfC"
      },
      "source": [
        "Question#4\n",
        "\n",
        "Points : 10\n",
        "\n",
        "Build a class called BankAccount that manages checking and savings accounts.\n",
        "\n",
        "    Attributes:\n",
        "              customer name,\n",
        "              the customer's savings account balance,\n",
        "              and the customer's checking account balance.\n",
        "    \n",
        "    Constructor with parameters (self, new_name, checking_balance, savings_balance)\n",
        "    \n",
        "    deposit_checking(self, amount) - add parameter amount to the checking account balance (only if positive)\n",
        "\n",
        "    deposit_savings(self, amount) - add parameter amount to the savings account balance (only if positive)\n",
        "\n",
        "\n",
        "    withdraw_checking(self, amount) - subtract parameter amount from the checking account balance (only if positive)\n",
        "\n",
        "\n",
        "    withdraw_savings(self, amount) - subtract parameter amount from the savings account balance (only if positive)\n",
        "\n",
        "\n",
        "    transfer_to_savings(self, amount) - subtract parameter amount from the checking account balance and add to the savings account balance (only if positive)"
      ]
    },
    {
      "cell_type": "code",
      "source": [
        "class BankAccount:\n",
        "    def __init__(self, new_name, checking_balance=0, savings_balance=0):\n",
        "        self.customer_name = new_name\n",
        "        self.checking_balance = checking_balance\n",
        "        self.savings_balance = savings_balance\n",
        "\n",
        "    def deposit_checking(self, amount):\n",
        "        if amount > 0:\n",
        "            self.checking_balance += amount\n",
        "\n",
        "    def deposit_savings(self, amount):\n",
        "        if amount > 0:\n",
        "            self.savings_balance += amount\n",
        "\n",
        "    def withdraw_checking(self, amount):\n",
        "        if amount > 0 and amount <= self.checking_balance:\n",
        "            self.checking_balance -= amount\n",
        "\n",
        "    def withdraw_savings(self, amount):\n",
        "        if amount > 0 and amount <= self.savings_balance:\n",
        "            self.savings_balance -= amount\n",
        "\n",
        "    def transfer_to_savings(self, amount):\n",
        "        if amount > 0 and amount <= self.checking_balance:\n",
        "            self.checking_balance -= amount\n",
        "            self.savings_balance += amount\n",
        "\n",
        "# Example usage\n",
        "account = BankAccount(\"John Doe\", 500, 1000)\n",
        "account.deposit_checking(200)\n",
        "account.withdraw_savings(300)\n",
        "account.transfer_to_savings(100)\n",
        "\n",
        "print(f\"{account.customer_name}'s Checking Balance: ${account.checking_balance}\")\n",
        "print(f\"{account.customer_name}'s Savings Balance: ${account.savings_balance}\")\n"
      ],
      "metadata": {
        "colab": {
          "base_uri": "https://localhost:8080/"
        },
        "id": "bgs4SqG6FXLv",
        "outputId": "7a9449a7-17c8-4d3b-fa5f-247a578ab8e3"
      },
      "execution_count": 18,
      "outputs": [
        {
          "output_type": "stream",
          "name": "stdout",
          "text": [
            "John Doe's Checking Balance: $600\n",
            "John Doe's Savings Balance: $800\n"
          ]
        }
      ]
    }
  ]
}