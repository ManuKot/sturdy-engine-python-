{
  "nbformat": 4,
  "nbformat_minor": 0,
  "metadata": {
    "kernelspec": {
      "display_name": "Python 3",
      "language": "python",
      "name": "python3"
    },
    "language_info": {
      "codemirror_mode": {
        "name": "ipython",
        "version": 3
      },
      "file_extension": ".py",
      "mimetype": "text/x-python",
      "name": "python",
      "nbconvert_exporter": "python",
      "pygments_lexer": "ipython3",
      "version": "3.6.6"
    },
    "colab": {
      "provenance": [],
      "toc_visible": true
    }
  },
  "cells": [
    {
      "cell_type": "markdown",
      "metadata": {
        "id": "gK6DXBJO8P8i"
      },
      "source": [
        "# Functions and Methods Homework - CS661 Python Programming\n",
        "Assignment - 3\n",
        "\n",
        "Total points  - 50\n",
        "\n",
        "*5 points for optimized code*\n",
        "\n",
        "Answer the following questions, download the .ipynb file and submit the file.\n",
        "\n",
        "    * Name :Manoj Kumar reddy Mule\n",
        "    * Sesion :5\n",
        "    * CRN :73064"
      ]
    },
    {
      "cell_type": "markdown",
      "metadata": {
        "id": "XfU24AwxXI7k"
      },
      "source": [
        "## Question #1\n",
        "Points : 10"
      ]
    },
    {
      "cell_type": "markdown",
      "metadata": {
        "id": "F4BcjT2sV9gN"
      },
      "source": [
        "\n",
        "One lap around a running track is exactly 0.25 miles. Write the function miles_to_laps() that takes a number of miles as an argument and returns the number of laps. Complete the program to output the number of laps.\n",
        "\n",
        "Output each floating-point value with two digits after the decimal point, which can be achieved as follows:\n",
        "print('{:.2f}'.format(your_value))\n",
        "\n",
        "    Ex: If the input is:1.5\n",
        "    the output is:6.00\n",
        "    Ex: If the input is:2.2\n",
        "    the output is:8.80\n",
        "    Your program must define and call the following function:\n",
        "            def miles_to_laps(user_miles)"
      ]
    },
    {
      "cell_type": "code",
      "metadata": {
        "collapsed": true,
        "id": "LgJtXasi8P8j"
      },
      "source": [
        "def miles_to_laps(user_miles):\n",
        "    # Convert miles to laps (assuming 1 lap is 0.25 miles)\n",
        "    laps = user_miles / 0.25\n",
        "    # Format the result to two decimal places\n",
        "    return f\"{laps:.2f}\"\n",
        "\n",
        "\n",
        ""
      ],
      "execution_count": 5,
      "outputs": []
    },
    {
      "cell_type": "code",
      "metadata": {
        "id": "tQTA2xzy8P8k",
        "outputId": "0b126bff-7d32-46bb-f8d4-0d50480637dc",
        "colab": {
          "base_uri": "https://localhost:8080/",
          "height": 0
        }
      },
      "source": [
        "# Example of calling the function\n",
        "if __name__ == \"__main__\":\n",
        "    # Get user input\n",
        "    user_input = float(input(\"Enter miles: \"))\n",
        "    # Call the function and print the result\n",
        "    print(miles_to_laps(user_input))\n"
      ],
      "execution_count": 6,
      "outputs": [
        {
          "output_type": "stream",
          "name": "stdout",
          "text": [
            "Enter miles: 2.2\n",
            "8.80\n"
          ]
        }
      ]
    },
    {
      "cell_type": "markdown",
      "metadata": {
        "id": "u92B0DdfX2oD"
      },
      "source": [
        "## Question #2\n",
        "Points : 5"
      ]
    },
    {
      "cell_type": "markdown",
      "metadata": {
        "id": "0y7wX2Oa8P8l"
      },
      "source": [
        "\n",
        "Write a function that checks whether a number is in a given range (inclusive of high and low)"
      ]
    },
    {
      "cell_type": "code",
      "metadata": {
        "collapsed": true,
        "id": "CEM0B2pe8P8m"
      },
      "source": [
        "def ran_check(num,low,high):\n",
        "    #Write code here!\n",
        "    if num >= low and num <= high:\n",
        "        print(f\"{num} is in the range between {low} and {high}\")\n",
        "    else:\n",
        "        print(f\"{num} is not in the range between {low} and {high}\")"
      ],
      "execution_count": 7,
      "outputs": []
    },
    {
      "cell_type": "code",
      "metadata": {
        "id": "m2c1E3We8P8n",
        "outputId": "25816db3-2f8b-4739-befd-22134b103e74",
        "colab": {
          "base_uri": "https://localhost:8080/",
          "height": 0
        }
      },
      "source": [
        "# Check\n",
        "ran_check(5,2,7)"
      ],
      "execution_count": 8,
      "outputs": [
        {
          "output_type": "stream",
          "name": "stdout",
          "text": [
            "5 is in the range between 2 and 7\n"
          ]
        }
      ]
    },
    {
      "cell_type": "markdown",
      "metadata": {
        "id": "ssMOQEqj8P8o"
      },
      "source": [
        "Write a function that checks whether a number is in a given range return a boolean:"
      ]
    },
    {
      "cell_type": "code",
      "metadata": {
        "collapsed": true,
        "id": "EfoWCKHU8P8o"
      },
      "source": [
        "def ran_bool(num,low,high):\n",
        "    #Write code here!\n",
        "    return num >= low and num <= high"
      ],
      "execution_count": 9,
      "outputs": []
    },
    {
      "cell_type": "code",
      "metadata": {
        "id": "9VtNSTkZ8P8p",
        "outputId": "e2069e7f-d719-4ecc-c542-2436ae5f3a51",
        "colab": {
          "base_uri": "https://localhost:8080/",
          "height": 0
        }
      },
      "source": [
        "ran_bool(3,1,10)"
      ],
      "execution_count": 10,
      "outputs": [
        {
          "output_type": "execute_result",
          "data": {
            "text/plain": [
              "True"
            ]
          },
          "metadata": {},
          "execution_count": 10
        }
      ]
    },
    {
      "cell_type": "markdown",
      "metadata": {
        "id": "T3c9I8EeYEFj"
      },
      "source": [
        "## Question #3\n",
        "Points : 5"
      ]
    },
    {
      "cell_type": "markdown",
      "metadata": {
        "id": "slZHyP5l8P8q"
      },
      "source": [
        "Write a Python function that accepts a string and calculates the number of upper case letters and lower case letters.\n",
        "\n",
        "    Sample String : 'Hello Students, how are you this fine Tuesday?'\n",
        "    Expected Output :\n",
        "    No. of Upper case characters : 3\n",
        "    No. of Lower case Characters : 34\n",
        "\n",
        "Note: You can use tring methods **.isupper()** and **.islower()**\n"
      ]
    },
    {
      "cell_type": "code",
      "metadata": {
        "collapsed": true,
        "id": "Ol_OBmm28P8q"
      },
      "source": [
        "def upper_lower(s):\n",
        "\n",
        "    upper_count = sum(1 for char in s if char.isupper())\n",
        "    lower_count = sum(1 for char in s if char.islower())\n",
        "\n",
        "    print(f\"No. of Upper case characters: {upper_count}\")\n",
        "    print(f\"No. of Lower case characters: {lower_count}\")"
      ],
      "execution_count": 13,
      "outputs": []
    },
    {
      "cell_type": "code",
      "metadata": {
        "id": "zWWR_09c8P8r",
        "colab": {
          "base_uri": "https://localhost:8080/",
          "height": 0
        },
        "outputId": "a98b054c-424f-4a20-f925-c24c46b337c9"
      },
      "source": [
        "s = 'Hello Students, how are you this fine Tuesday?'\n",
        "upper_lower(s)"
      ],
      "execution_count": 14,
      "outputs": [
        {
          "output_type": "stream",
          "name": "stdout",
          "text": [
            "No. of Upper case characters: 3\n",
            "No. of Lower case characters: 34\n"
          ]
        }
      ]
    },
    {
      "cell_type": "markdown",
      "metadata": {
        "id": "5olwRuwIZqNU"
      },
      "source": [
        "## Question #4\n",
        "Points : 5"
      ]
    },
    {
      "cell_type": "markdown",
      "metadata": {
        "id": "7zUFQ41G8P8s"
      },
      "source": [
        "Write a function to check if the given year is a leap year. A leap year is when a year has 366 days: An extra day, February 29th. The requirements for a given year to be a leap year are:\n",
        "\n",
        "    1) The year must be divisible by 4\n",
        "\n",
        "    2) If the year is a century year (1700, 1800, etc.),\n",
        "       the year must be evenly divisible by 400\n",
        "\n",
        "Some example leap years are 1600, 1712, and 2016.\n",
        "\n",
        "Funtion should takes in a year and determines whether that year is a leap year.\n",
        "\n",
        "    Ex: If the input is: 1712\n",
        "        the output is: 1712 is a leap year."
      ]
    },
    {
      "cell_type": "code",
      "metadata": {
        "id": "5C-ujE18Z1DJ",
        "colab": {
          "base_uri": "https://localhost:8080/",
          "height": 0
        },
        "outputId": "7411a341-5376-4226-d2b2-0d0db00f46a3"
      },
      "source": [
        "def leap_year(year):\n",
        "    if (year % 4 == 0 and year % 100 != 0) or (year % 400 == 0):\n",
        "        print(f\"{year} is a leap year.\")\n",
        "    else:\n",
        "        print(f\"{year} is not a leap year.\")\n",
        "\n",
        "# Example check\n",
        "leap_year(1712)\n"
      ],
      "execution_count": 19,
      "outputs": [
        {
          "output_type": "stream",
          "name": "stdout",
          "text": [
            "1712 is a leap year.\n"
          ]
        }
      ]
    },
    {
      "cell_type": "markdown",
      "metadata": {
        "id": "idUf_Py6aGXk"
      },
      "source": [
        "## Question #5\n",
        "Points : 5"
      ]
    },
    {
      "cell_type": "markdown",
      "metadata": {
        "id": "c7snZQu28P8t"
      },
      "source": [
        "**Write a Python function to multiply all the numbers in a list.**\n",
        "\n",
        "    Sample List : [1, 2, 3, -4]\n",
        "    Expected Output : -24"
      ]
    },
    {
      "cell_type": "code",
      "metadata": {
        "collapsed": true,
        "id": "Xe8YuS6G8P8t"
      },
      "source": [
        "def multiply(numbers):\n",
        "   #Write code here\n",
        "    result = 1\n",
        "    for num in numbers:\n",
        "        result *= num\n",
        "    return result"
      ],
      "execution_count": 20,
      "outputs": []
    },
    {
      "cell_type": "code",
      "metadata": {
        "id": "dxkO6chD8P8u",
        "outputId": "dc19676b-d5b0-443e-a82a-7f1113d703a3"
      },
      "source": [
        "multiply([1,2,3,-4])"
      ],
      "execution_count": null,
      "outputs": [
        {
          "output_type": "execute_result",
          "data": {
            "text/plain": [
              "-24"
            ]
          },
          "metadata": {
            "tags": []
          },
          "execution_count": 12
        }
      ]
    },
    {
      "cell_type": "markdown",
      "metadata": {
        "id": "M9Rfe1OOaOcO"
      },
      "source": [
        "## Question #6\n",
        "Points : 5"
      ]
    },
    {
      "cell_type": "markdown",
      "metadata": {
        "id": "RoyqHLjc8P8u"
      },
      "source": [
        "**Write a Python function that checks whether a word or phrase is palindrome or not.**\n",
        "\n",
        "Note: A palindrome is word, phrase, or sequence that reads the same backward as forward.\n",
        "\n",
        "    e.g., madam,kayak,racecar\n",
        "\n",
        "    input : madam\n",
        "    output: Given 'madam' is a palidrome."
      ]
    },
    {
      "cell_type": "code",
      "metadata": {
        "collapsed": true,
        "id": "sFvhrDVD8P8v"
      },
      "source": [
        "def palindrome(s):\n",
        "\n",
        "    if s == s[::-1]:\n",
        "        print(f\"Given '{s}' is a palindrome.\")\n",
        "    else:\n",
        "        print(f\"Given '{s}' is not a palindrome.\")"
      ],
      "execution_count": 21,
      "outputs": []
    },
    {
      "cell_type": "code",
      "metadata": {
        "id": "zdl8a6PV8P8v",
        "outputId": "d79ca199-c586-499f-dc37-b462fd37d8fa",
        "colab": {
          "base_uri": "https://localhost:8080/",
          "height": 0
        }
      },
      "source": [
        "palindrome('helleh')"
      ],
      "execution_count": 22,
      "outputs": [
        {
          "output_type": "stream",
          "name": "stdout",
          "text": [
            "Given 'helleh' is a palindrome.\n"
          ]
        }
      ]
    },
    {
      "cell_type": "markdown",
      "metadata": {
        "id": "3a2N6cOkbRO3"
      },
      "source": [
        "## Question #7\n",
        "Points : 5"
      ]
    },
    {
      "cell_type": "markdown",
      "metadata": {
        "id": "ZglZKEBk8P8v"
      },
      "source": [
        "\n",
        "**Write a Python function to check whether a string is pangram or not. (Assume the string passed in does not have any punctuation)**\n",
        "\n",
        "    Note : Pangrams are words or sentences containing every letter of the alphabet at least once.\n",
        "    For example : \"The quick brown fox jumps over the lazy dog\"\n"
      ]
    },
    {
      "cell_type": "code",
      "metadata": {
        "collapsed": true,
        "id": "yddAUm4q8P8w"
      },
      "source": [
        "import string\n",
        "\n",
        "def ispangram(s):\n",
        "    alphabet_set = set(string.ascii_lowercase)\n",
        "    return alphabet_set.issubset(set(s.lower()))\n",
        "\n",
        "\n"
      ],
      "execution_count": 25,
      "outputs": []
    },
    {
      "cell_type": "code",
      "metadata": {
        "id": "lbJkVFz18P8w",
        "outputId": "31b51c1b-0d8e-41eb-fc57-a57eda94fc1c",
        "colab": {
          "base_uri": "https://localhost:8080/",
          "height": 0
        }
      },
      "source": [
        "ispangram(\"The quick brown fox jumps over the lazy dog\")"
      ],
      "execution_count": 26,
      "outputs": [
        {
          "output_type": "execute_result",
          "data": {
            "text/plain": [
              "True"
            ]
          },
          "metadata": {},
          "execution_count": 26
        }
      ]
    },
    {
      "cell_type": "markdown",
      "metadata": {
        "id": "12Xq7f2-bTpM"
      },
      "source": [
        "## Question #8\n",
        "Points : 5"
      ]
    },
    {
      "cell_type": "markdown",
      "metadata": {
        "id": "1tQN6Z4SbqkK"
      },
      "source": [
        "Toll gates have different fees based on the time of day, weekdays/weekends. Write a function that has three parameters: the current hour of time (int), time is morning (boolean) and whether the day is a weekend(boolean). The function returns the correct toll fee (float), based on the chart below.\n",
        "\n",
        "    Weekday Tolls\n",
        "\n",
        "    Before 7:00 am ($1.15)\n",
        "    7:00 am to 9:59 am ($2.95)\n",
        "    10:00 am to 2:59 pm ($1.90)\n",
        "    3:00 pm to 7:59 pm ($3.95)\n",
        "    Starting 8:00 pm ($1.40)\n",
        "    \n",
        "    Weekend Tolls\n",
        "\n",
        "    Before 7:00 am ($1.05)\n",
        "    7:00 am to 7:59 pm ($2.15)\n",
        "    Starting 8:00 pm ($1.10)\n",
        "\n",
        "    input : toll_fee(8, True, False)\n",
        "    Output : $ 2.95\n"
      ]
    },
    {
      "cell_type": "code",
      "metadata": {
        "id": "8wIRatoUc4rN"
      },
      "source": [
        "def toll_fee(hour, morning, weekend):\n",
        "    if weekend:\n",
        "        if hour < 7:\n",
        "            return 1.05\n",
        "        elif hour < 20:\n",
        "            return 2.15\n",
        "        else:\n",
        "            return 1.10\n",
        "    else:\n",
        "        if hour < 7:\n",
        "            return 1.15\n",
        "        elif hour < 10:\n",
        "            return 2.95\n",
        "        elif hour < 15:\n",
        "            return 1.90\n",
        "        elif hour < 20:\n",
        "            return 3.95\n",
        "        else:\n",
        "            return 1.40\n",
        "\n",
        "\n"
      ],
      "execution_count": 29,
      "outputs": []
    },
    {
      "cell_type": "code",
      "metadata": {
        "id": "cVHmOwIYdE0-",
        "colab": {
          "base_uri": "https://localhost:8080/",
          "height": 0
        },
        "outputId": "7b415e8c-1881-4ec6-e150-601413548fdc"
      },
      "source": [
        "#call your function\n",
        "\n",
        "fee = toll_fee(8, True, False)\n",
        "print(\"The fee of the hour: \", fee)"
      ],
      "execution_count": 30,
      "outputs": [
        {
          "output_type": "stream",
          "name": "stdout",
          "text": [
            "The fee of the hour:  2.95\n"
          ]
        }
      ]
    },
    {
      "cell_type": "markdown",
      "metadata": {
        "id": "QYvtpZXAdaG-"
      },
      "source": [
        "*If you extend the program to add roud trip fee extra credit point 5 will be awarded.*"
      ]
    }
  ]
}